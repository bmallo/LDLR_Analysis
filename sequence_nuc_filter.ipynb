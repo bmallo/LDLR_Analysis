{
 "cells": [
  {
   "cell_type": "code",
   "execution_count": 1,
   "metadata": {},
   "outputs": [],
   "source": [
    "import os\n",
    "import pysam\n",
    "import pandas as pd\n",
    "import numpy as np"
   ]
  },
  {
   "cell_type": "code",
   "execution_count": 2,
   "metadata": {},
   "outputs": [],
   "source": [
    "os.chdir(\"/gscratch/stergachislab/bmallo/large_home/fiberseq-smk/results/LDLR_sc_control\")"
   ]
  },
  {
   "cell_type": "markdown",
   "metadata": {},
   "source": [
    "### Open the bam file to read from, and create a new bam file to write to"
   ]
  },
  {
   "cell_type": "code",
   "execution_count": 3,
   "metadata": {},
   "outputs": [],
   "source": [
    "bam = pysam.AlignmentFile('aligned.fiberseq.bam', 'rb')\n",
    "\n",
    "chrom_wt_reads = pysam.AlignmentFile('chromatinized_wt_reads.bam', 'wb', template=bam)"
   ]
  },
  {
   "cell_type": "markdown",
   "metadata": {},
   "source": [
    "#### Set variable containing WT LDLR promoter sequence"
   ]
  },
  {
   "cell_type": "code",
   "execution_count": 4,
   "metadata": {},
   "outputs": [],
   "source": [
    "LDLR_promoter_seq = 'AGCTCTTCACCGGAGACCCAAATACAACAAATCAAGTCGCCTGCCCTGGCGACACTTTCGAAGGACTGGAGTGGGAATCAGAGCTTCACGGGTTAAAAAGCCGATGTCACATCGGCCGTTCGAAACTCCTCCTCTTGCAGTGAGGTGAAGACATTTGAAAATCACCCCACTGCAAACTCCTCCCCCTGCTAGAAACCTCACATTGAAATGCTGTAAATGACGTGGGCCCCGAGTGCAATCGCGGGAAGCCAGGGTTTCCAGCTAGGACACAGCAGGTCGTGATCCGGGTCGGGACACTGCCTGGCAGAGGCTGCGAGC'"
   ]
  },
  {
   "cell_type": "markdown",
   "metadata": {},
   "source": [
    "### Filter out full length LDLR reads that contain nucleosome calls, and write these reads to the new bam file"
   ]
  },
  {
   "cell_type": "code",
   "execution_count": 5,
   "metadata": {},
   "outputs": [
    {
     "data": {
      "text/plain": [
       "3125"
      ]
     },
     "execution_count": 5,
     "metadata": {},
     "output_type": "execute_result"
    }
   ],
   "source": [
    "pysam.AlignmentFile.count(bam)"
   ]
  },
  {
   "cell_type": "code",
   "execution_count": 14,
   "metadata": {},
   "outputs": [
    {
     "name": "stdout",
     "output_type": "stream",
     "text": [
      "Total reads = 663 reads\n",
      "Full length reads = 100 reads\n",
      "Full length chromatinized reads = 13 reads\n"
     ]
    }
   ],
   "source": [
    "iter = bam.fetch('corrected_linear_LDLR_kpnI')\n",
    "\n",
    "seq_count = 0\n",
    "full_seq_list = []\n",
    "wt_nuc_count = 0 \n",
    "\n",
    "for record in iter:\n",
    "\n",
    "    if not record.has_tag('ns'): continue\n",
    "\n",
    "    seq_count += 1\n",
    "\n",
    "    read = record.query_sequence\n",
    "\n",
    "    read_length = len(read)\n",
    "\n",
    "    if (4740 < read_length) and (read_length < 4760):\n",
    "\n",
    "        full_seq_list.append(read)\n",
    "\n",
    "        if LDLR_promoter_seq in read:\n",
    "\n",
    "            wt_nuc_count += 1 \n",
    "\n",
    "            chrom_wt_reads.write(record)\n",
    "\n",
    "\n",
    "print(f'Total reads = {seq_count} reads')\n",
    "print(f'Full length reads = {len(full_seq_list)} reads')\n",
    "print(f'Full length chromatinized reads = {wt_nuc_count} reads')\n",
    "chrom_wt_reads.close()\n"
   ]
  },
  {
   "cell_type": "code",
   "execution_count": 11,
   "metadata": {},
   "outputs": [
    {
     "ename": "TabError",
     "evalue": "inconsistent use of tabs and spaces in indentation (2876418023.py, line 22)",
     "output_type": "error",
     "traceback": [
      "\u001b[0;36m  Input \u001b[0;32mIn [11]\u001b[0;36m\u001b[0m\n\u001b[0;31m    print(seq_start)\u001b[0m\n\u001b[0m    ^\u001b[0m\n\u001b[0;31mTabError\u001b[0m\u001b[0;31m:\u001b[0m inconsistent use of tabs and spaces in indentation\n"
     ]
    }
   ],
   "source": [
    "import pysam\n",
    "import numpy as np\n",
    "LDLR_bam = pysam.AlignmentFile('aligned.fiberseq.bam', 'rb')\n",
    "\n",
    "seq_list = []\n",
    "promoter_list = []\n",
    "\n",
    "for read in LDLR_bam:\n",
    "\n",
    "\tif read.is_unmapped: continue \n",
    "\n",
    "\tseq = read.query_sequence\n",
    "\n",
    "\tif 4740 < len(seq) < 4760:\n",
    "\n",
    "\t\tseq_list.append(seq)\n",
    "\n",
    "\t\taligned_pairs = np.array(read.get_aligned_pairs(matches_only=True)).transpose().astype(int)\n",
    "\n",
    "\t\tseq_start = aligned_pairs[0,aligned_pairs[1] == 2659]\n",
    "\t\tseq_stop = aligned_pairs[0, aligned_pairs[1] == 2718]\n",
    "   \n",
    "\t\tif (len(seq_start) == 1 and len(seq_stop) == 1):\n",
    "\n",
    "\t\t\tpromoter_list.append(seq[int(seq_start):int(seq_stop)])\n",
    "\t\t\n",
    "promoter_set = set(promoter_list)"
   ]
  }
 ],
 "metadata": {
  "kernelspec": {
   "display_name": "Python 3.9.13 ('general')",
   "language": "python",
   "name": "python3"
  },
  "language_info": {
   "codemirror_mode": {
    "name": "ipython",
    "version": 3
   },
   "file_extension": ".py",
   "mimetype": "text/x-python",
   "name": "python",
   "nbconvert_exporter": "python",
   "pygments_lexer": "ipython3",
   "version": "3.9.13"
  },
  "orig_nbformat": 4,
  "vscode": {
   "interpreter": {
    "hash": "30ff0ad90d6c14de7cdb721035b1a5ab7638ecc26d65128ddb426d71c63dea49"
   }
  }
 },
 "nbformat": 4,
 "nbformat_minor": 2
}
